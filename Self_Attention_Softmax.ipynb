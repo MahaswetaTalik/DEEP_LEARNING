{
  "nbformat": 4,
  "nbformat_minor": 0,
  "metadata": {
    "colab": {
      "provenance": [],
      "authorship_tag": "ABX9TyOEzJrIB081cc7IqRBcNchK",
      "include_colab_link": true
    },
    "kernelspec": {
      "name": "python3",
      "display_name": "Python 3"
    },
    "language_info": {
      "name": "python"
    }
  },
  "cells": [
    {
      "cell_type": "markdown",
      "metadata": {
        "id": "view-in-github",
        "colab_type": "text"
      },
      "source": [
        "<a href=\"https://colab.research.google.com/github/MahaswetaTalik/DEEP_LEARNING/blob/main/Self_Attention_Softmax.ipynb\" target=\"_parent\"><img src=\"https://colab.research.google.com/assets/colab-badge.svg\" alt=\"Open In Colab\"/></a>"
      ]
    },
    {
      "cell_type": "code",
      "source": [
        "import numpy as np\n",
        "import matplotlib.pyplot as plt\n",
        "\n",
        "def softmax(x):\n",
        "    # Ensure numerical stability by subtracting the max value from each element\n",
        "    e_x = np.exp(x - np.max(x))\n",
        "    softmax_values = e_x / e_x.sum(axis=0)  # Normalize\n",
        "    percent_values = softmax_values * 100  # Convert to percent\n",
        "    # Format each value to a string with 2 decimal places followed by a percent sign\n",
        "    formatted_percent_values = [f\"{value:.2f}%\" for value in percent_values]\n",
        "    return formatted_percent_values\n",
        "\n",
        "# Example usage of the softmax function\n",
        "softmax(np.array([1, 10]))"
      ],
      "metadata": {
        "colab": {
          "base_uri": "https://localhost:8080/"
        },
        "id": "JHuzIOKvxvK6",
        "outputId": "7270b76d-7bf8-4441-d558-4dbfd1c12feb"
      },
      "execution_count": 7,
      "outputs": [
        {
          "output_type": "execute_result",
          "data": {
            "text/plain": [
              "['0.01%', '99.99%']"
            ]
          },
          "metadata": {},
          "execution_count": 7
        }
      ]
    },
    {
      "cell_type": "code",
      "source": [],
      "metadata": {
        "id": "Py6OzSeux0Dj"
      },
      "execution_count": null,
      "outputs": []
    }
  ]
}